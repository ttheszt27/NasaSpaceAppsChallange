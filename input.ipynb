{
 "cells": [
  {
   "cell_type": "code",
   "execution_count": 2,
   "metadata": {},
   "outputs": [],
   "source": [
    "import pandas as pd\n",
    "import json"
   ]
  },
  {
   "cell_type": "code",
   "execution_count": 3,
   "metadata": {},
   "outputs": [],
   "source": [
    "data = pd.read_csv('datasets/world-data-2023.csv')"
   ]
  },
  {
   "cell_type": "code",
   "execution_count": 4,
   "metadata": {},
   "outputs": [],
   "source": [
    "countries_base = [\"Hungary\", \"Slovakia\", \"Romania\", \"Poland\", \"Croatia\", \"Serbia\", \"Montenegro\", \"Albania\", \"Czechia\", \"Bulgaria\", \"Greece\", \"North Macedonia\"\n",
    "             , \"Moldova\", \"Lithuania\", \"Latvia\", \"Bosnia and Herzegovina\"]\n",
    "countries_ref = [\"Germany\", \"Austria\", \"Switzerland\", \"Slovenia\"]\n",
    "\n",
    "countries = countries_base + countries_ref"
   ]
  },
  {
   "cell_type": "code",
   "execution_count": 5,
   "metadata": {},
   "outputs": [],
   "source": [
    "data = data.loc[data.Country.isin(countries_base)]"
   ]
  },
  {
   "cell_type": "code",
   "execution_count": 6,
   "metadata": {},
   "outputs": [],
   "source": [
    "drop_col = [\"Abbreviation\",\"Calling Code\", \"Capital/Major City\", \"Currency-Code\", \"Official language\", \"Largest city\"]\n",
    "\n",
    "data.drop(drop_col, axis=1, inplace=True)\n"
   ]
  },
  {
   "cell_type": "code",
   "execution_count": 11,
   "metadata": {},
   "outputs": [
    {
     "data": {
      "text/plain": [
       "Index(['Country', 'Density\\r\\n(P/Km2)', 'Agricultural Land( %)',\n",
       "       'Land Area(Km2)', 'Armed Forces size', 'Birth Rate', 'Co2-Emissions',\n",
       "       'CPI', 'CPI Change (%)', 'Fertility Rate', 'Forested Area (%)',\n",
       "       'Gasoline Price', 'GDP', 'Gross primary education enrollment (%)',\n",
       "       'Gross tertiary education enrollment (%)', 'Infant mortality',\n",
       "       'Life expectancy', 'Maternal mortality ratio', 'Minimum wage',\n",
       "       'Out of pocket health expenditure', 'Physicians per thousand',\n",
       "       'Population', 'Population: Labor force participation (%)',\n",
       "       'Tax revenue (%)', 'Total tax rate', 'Unemployment rate',\n",
       "       'Urban_population', 'Latitude', 'Longitude'],\n",
       "      dtype='object')"
      ]
     },
     "execution_count": 11,
     "metadata": {},
     "output_type": "execute_result"
    }
   ],
   "source": [
    "data.columns"
   ]
  },
  {
   "cell_type": "code",
   "execution_count": 12,
   "metadata": {},
   "outputs": [],
   "source": [
    "data.columns =  [\n",
    "    'country',\n",
    "    'density',\n",
    "    'agricultural_land',\n",
    "    'land_area',\n",
    "    'armed_forces_size',\n",
    "    'birth_rate',\n",
    "    'co2_emissions',\n",
    "    'cpi',\n",
    "    'cpi_change',\n",
    "    'fertility_rate',\n",
    "    'forested_area',\n",
    "    'gasoline_price',\n",
    "    'gdp',\n",
    "    'primary_education_enrollment',\n",
    "    'tertiary_education_enrollment',\n",
    "    'infant_mortality',\n",
    "    'life_expectancy',\n",
    "    'maternal_mortality',\n",
    "    'minimum_wage',\n",
    "    'health_expenditure',\n",
    "    'physicians_per_thousand',\n",
    "    'population',\n",
    "    'labor_force_participation',\n",
    "    'tax_revenue',\n",
    "    'total_tax_rate',\n",
    "    'unemployment_rate',\n",
    "    'urban_population', \n",
    "    'latitude', \n",
    "    'longitude'\n",
    "]\n"
   ]
  },
  {
   "cell_type": "code",
   "execution_count": 13,
   "metadata": {},
   "outputs": [],
   "source": [
    "modifiable = [\n",
    "    'agricultural_land',\n",
    "    'armed_forces_size',\n",
    "    'birth_rate',\n",
    "    'co2_emissions',\n",
    "    'cpi',\n",
    "    'cpi_change',\n",
    "    'fertility_rate',\n",
    "    'forested_area',\n",
    "    'gasoline_price',\n",
    "    'gdp',\n",
    "    'primary_education_enrollment',\n",
    "    'tertiary_education_enrollment',\n",
    "    'infant_mortality',\n",
    "    'maternal_mortality',\n",
    "    'minimum_wage',\n",
    "    'health_expenditure',\n",
    "    'physicians_per_thousand',\n",
    "    'population',\n",
    "    'labor_force_participation',\n",
    "    'tax_revenue',\n",
    "    'total_tax_rate',\n",
    "    'unemployment_rate',\n",
    "    'urban_population', \n",
    "]"
   ]
  },
  {
   "cell_type": "code",
   "execution_count": 14,
   "metadata": {},
   "outputs": [],
   "source": [
    "columns_with_properties = {\n",
    "    col: {\"modifiable\": col in modifiable} for col in data.columns\n",
    "}"
   ]
  },
  {
   "cell_type": "code",
   "execution_count": 15,
   "metadata": {},
   "outputs": [],
   "source": [
    "data = data.replace({',':'', '%': '', '$': ''}, regex=True)"
   ]
  },
  {
   "cell_type": "code",
   "execution_count": 18,
   "metadata": {},
   "outputs": [],
   "source": [
    "data.set_index('country', inplace=True)"
   ]
  },
  {
   "cell_type": "code",
   "execution_count": 19,
   "metadata": {},
   "outputs": [],
   "source": [
    "country_dict = data.to_dict(orient='index')\n"
   ]
  },
  {
   "cell_type": "code",
   "execution_count": 20,
   "metadata": {},
   "outputs": [],
   "source": [
    "export_data = {\n",
    "    \"countries\": country_dict,  # Data from the DataFrame\n",
    "    \"columns\": columns_with_properties     # Column properties\n",
    "}\n",
    "\n",
    "with open(\"export_data.json\", \"w\") as json_file:\n",
    "    json.dump(export_data, json_file, indent=4)"
   ]
  },
  {
   "cell_type": "code",
   "execution_count": null,
   "metadata": {},
   "outputs": [],
   "source": []
  }
 ],
 "metadata": {
  "kernelspec": {
   "display_name": "Python 3",
   "language": "python",
   "name": "python3"
  },
  "language_info": {
   "codemirror_mode": {
    "name": "ipython",
    "version": 3
   },
   "file_extension": ".py",
   "mimetype": "text/x-python",
   "name": "python",
   "nbconvert_exporter": "python",
   "pygments_lexer": "ipython3",
   "version": "3.12.4"
  }
 },
 "nbformat": 4,
 "nbformat_minor": 2
}
