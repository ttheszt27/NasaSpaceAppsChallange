{
 "cells": [
  {
   "cell_type": "code",
   "execution_count": 10,
   "metadata": {},
   "outputs": [],
   "source": [
    "import pandas as pd\n",
    "import json"
   ]
  },
  {
   "cell_type": "code",
   "execution_count": 3,
   "metadata": {},
   "outputs": [],
   "source": [
    "data = pd.read_csv('datasets/world-data-2023.csv')"
   ]
  },
  {
   "cell_type": "code",
   "execution_count": 4,
   "metadata": {},
   "outputs": [],
   "source": [
    "countries_base = [\"Hungary\", \"Slovakia\", \"Romania\", \"Poland\", \"Croatia\", \"Serbia\", \"Montenegro\", \"Albania\", \"Czechia\", \"Bulgaria\", \"Greece\", \"North Macedonia\"\n",
    "             , \"Moldova\", \"Lithuania\", \"Latvia\", \"Bosnia and Herzegovina\"]\n",
    "countries_ref = [\"Germany\", \"Austria\", \"Switzerland\", \"Slovenia\"]\n",
    "\n",
    "countries = countries_base + countries_ref"
   ]
  },
  {
   "cell_type": "code",
   "execution_count": 12,
   "metadata": {},
   "outputs": [],
   "source": [
    "data = data.loc[data.Country.isin(countries_base)]"
   ]
  },
  {
   "cell_type": "code",
   "execution_count": 13,
   "metadata": {},
   "outputs": [
    {
     "ename": "KeyError",
     "evalue": "\"['Abbreviation', 'Calling Code', 'Capital/Major City', 'Currency-Code', 'Official language', 'Largest city'] not found in axis\"",
     "output_type": "error",
     "traceback": [
      "\u001b[1;31m---------------------------------------------------------------------------\u001b[0m",
      "\u001b[1;31mKeyError\u001b[0m                                  Traceback (most recent call last)",
      "Cell \u001b[1;32mIn[13], line 3\u001b[0m\n\u001b[0;32m      1\u001b[0m drop_col \u001b[38;5;241m=\u001b[39m [\u001b[38;5;124m\"\u001b[39m\u001b[38;5;124mAbbreviation\u001b[39m\u001b[38;5;124m\"\u001b[39m,\u001b[38;5;124m\"\u001b[39m\u001b[38;5;124mCalling Code\u001b[39m\u001b[38;5;124m\"\u001b[39m, \u001b[38;5;124m\"\u001b[39m\u001b[38;5;124mCapital/Major City\u001b[39m\u001b[38;5;124m\"\u001b[39m, \u001b[38;5;124m\"\u001b[39m\u001b[38;5;124mCurrency-Code\u001b[39m\u001b[38;5;124m\"\u001b[39m, \u001b[38;5;124m\"\u001b[39m\u001b[38;5;124mOfficial language\u001b[39m\u001b[38;5;124m\"\u001b[39m, \u001b[38;5;124m\"\u001b[39m\u001b[38;5;124mLargest city\u001b[39m\u001b[38;5;124m\"\u001b[39m]\n\u001b[1;32m----> 3\u001b[0m \u001b[43mdata\u001b[49m\u001b[38;5;241;43m.\u001b[39;49m\u001b[43mdrop\u001b[49m\u001b[43m(\u001b[49m\u001b[43mdrop_col\u001b[49m\u001b[43m,\u001b[49m\u001b[43m \u001b[49m\u001b[43maxis\u001b[49m\u001b[38;5;241;43m=\u001b[39;49m\u001b[38;5;241;43m1\u001b[39;49m\u001b[43m,\u001b[49m\u001b[43m \u001b[49m\u001b[43minplace\u001b[49m\u001b[38;5;241;43m=\u001b[39;49m\u001b[38;5;28;43;01mTrue\u001b[39;49;00m\u001b[43m)\u001b[49m\n",
      "File \u001b[1;32mc:\\Users\\Kata\\AppData\\Local\\Programs\\Python\\Python312\\Lib\\site-packages\\pandas\\core\\frame.py:5581\u001b[0m, in \u001b[0;36mDataFrame.drop\u001b[1;34m(self, labels, axis, index, columns, level, inplace, errors)\u001b[0m\n\u001b[0;32m   5433\u001b[0m \u001b[38;5;28;01mdef\u001b[39;00m \u001b[38;5;21mdrop\u001b[39m(\n\u001b[0;32m   5434\u001b[0m     \u001b[38;5;28mself\u001b[39m,\n\u001b[0;32m   5435\u001b[0m     labels: IndexLabel \u001b[38;5;241m|\u001b[39m \u001b[38;5;28;01mNone\u001b[39;00m \u001b[38;5;241m=\u001b[39m \u001b[38;5;28;01mNone\u001b[39;00m,\n\u001b[1;32m   (...)\u001b[0m\n\u001b[0;32m   5442\u001b[0m     errors: IgnoreRaise \u001b[38;5;241m=\u001b[39m \u001b[38;5;124m\"\u001b[39m\u001b[38;5;124mraise\u001b[39m\u001b[38;5;124m\"\u001b[39m,\n\u001b[0;32m   5443\u001b[0m ) \u001b[38;5;241m-\u001b[39m\u001b[38;5;241m>\u001b[39m DataFrame \u001b[38;5;241m|\u001b[39m \u001b[38;5;28;01mNone\u001b[39;00m:\n\u001b[0;32m   5444\u001b[0m \u001b[38;5;250m    \u001b[39m\u001b[38;5;124;03m\"\"\"\u001b[39;00m\n\u001b[0;32m   5445\u001b[0m \u001b[38;5;124;03m    Drop specified labels from rows or columns.\u001b[39;00m\n\u001b[0;32m   5446\u001b[0m \n\u001b[1;32m   (...)\u001b[0m\n\u001b[0;32m   5579\u001b[0m \u001b[38;5;124;03m            weight  1.0     0.8\u001b[39;00m\n\u001b[0;32m   5580\u001b[0m \u001b[38;5;124;03m    \"\"\"\u001b[39;00m\n\u001b[1;32m-> 5581\u001b[0m     \u001b[38;5;28;01mreturn\u001b[39;00m \u001b[38;5;28;43msuper\u001b[39;49m\u001b[43m(\u001b[49m\u001b[43m)\u001b[49m\u001b[38;5;241;43m.\u001b[39;49m\u001b[43mdrop\u001b[49m\u001b[43m(\u001b[49m\n\u001b[0;32m   5582\u001b[0m \u001b[43m        \u001b[49m\u001b[43mlabels\u001b[49m\u001b[38;5;241;43m=\u001b[39;49m\u001b[43mlabels\u001b[49m\u001b[43m,\u001b[49m\n\u001b[0;32m   5583\u001b[0m \u001b[43m        \u001b[49m\u001b[43maxis\u001b[49m\u001b[38;5;241;43m=\u001b[39;49m\u001b[43maxis\u001b[49m\u001b[43m,\u001b[49m\n\u001b[0;32m   5584\u001b[0m \u001b[43m        \u001b[49m\u001b[43mindex\u001b[49m\u001b[38;5;241;43m=\u001b[39;49m\u001b[43mindex\u001b[49m\u001b[43m,\u001b[49m\n\u001b[0;32m   5585\u001b[0m \u001b[43m        \u001b[49m\u001b[43mcolumns\u001b[49m\u001b[38;5;241;43m=\u001b[39;49m\u001b[43mcolumns\u001b[49m\u001b[43m,\u001b[49m\n\u001b[0;32m   5586\u001b[0m \u001b[43m        \u001b[49m\u001b[43mlevel\u001b[49m\u001b[38;5;241;43m=\u001b[39;49m\u001b[43mlevel\u001b[49m\u001b[43m,\u001b[49m\n\u001b[0;32m   5587\u001b[0m \u001b[43m        \u001b[49m\u001b[43minplace\u001b[49m\u001b[38;5;241;43m=\u001b[39;49m\u001b[43minplace\u001b[49m\u001b[43m,\u001b[49m\n\u001b[0;32m   5588\u001b[0m \u001b[43m        \u001b[49m\u001b[43merrors\u001b[49m\u001b[38;5;241;43m=\u001b[39;49m\u001b[43merrors\u001b[49m\u001b[43m,\u001b[49m\n\u001b[0;32m   5589\u001b[0m \u001b[43m    \u001b[49m\u001b[43m)\u001b[49m\n",
      "File \u001b[1;32mc:\\Users\\Kata\\AppData\\Local\\Programs\\Python\\Python312\\Lib\\site-packages\\pandas\\core\\generic.py:4788\u001b[0m, in \u001b[0;36mNDFrame.drop\u001b[1;34m(self, labels, axis, index, columns, level, inplace, errors)\u001b[0m\n\u001b[0;32m   4786\u001b[0m \u001b[38;5;28;01mfor\u001b[39;00m axis, labels \u001b[38;5;129;01min\u001b[39;00m axes\u001b[38;5;241m.\u001b[39mitems():\n\u001b[0;32m   4787\u001b[0m     \u001b[38;5;28;01mif\u001b[39;00m labels \u001b[38;5;129;01mis\u001b[39;00m \u001b[38;5;129;01mnot\u001b[39;00m \u001b[38;5;28;01mNone\u001b[39;00m:\n\u001b[1;32m-> 4788\u001b[0m         obj \u001b[38;5;241m=\u001b[39m \u001b[43mobj\u001b[49m\u001b[38;5;241;43m.\u001b[39;49m\u001b[43m_drop_axis\u001b[49m\u001b[43m(\u001b[49m\u001b[43mlabels\u001b[49m\u001b[43m,\u001b[49m\u001b[43m \u001b[49m\u001b[43maxis\u001b[49m\u001b[43m,\u001b[49m\u001b[43m \u001b[49m\u001b[43mlevel\u001b[49m\u001b[38;5;241;43m=\u001b[39;49m\u001b[43mlevel\u001b[49m\u001b[43m,\u001b[49m\u001b[43m \u001b[49m\u001b[43merrors\u001b[49m\u001b[38;5;241;43m=\u001b[39;49m\u001b[43merrors\u001b[49m\u001b[43m)\u001b[49m\n\u001b[0;32m   4790\u001b[0m \u001b[38;5;28;01mif\u001b[39;00m inplace:\n\u001b[0;32m   4791\u001b[0m     \u001b[38;5;28mself\u001b[39m\u001b[38;5;241m.\u001b[39m_update_inplace(obj)\n",
      "File \u001b[1;32mc:\\Users\\Kata\\AppData\\Local\\Programs\\Python\\Python312\\Lib\\site-packages\\pandas\\core\\generic.py:4830\u001b[0m, in \u001b[0;36mNDFrame._drop_axis\u001b[1;34m(self, labels, axis, level, errors, only_slice)\u001b[0m\n\u001b[0;32m   4828\u001b[0m         new_axis \u001b[38;5;241m=\u001b[39m axis\u001b[38;5;241m.\u001b[39mdrop(labels, level\u001b[38;5;241m=\u001b[39mlevel, errors\u001b[38;5;241m=\u001b[39merrors)\n\u001b[0;32m   4829\u001b[0m     \u001b[38;5;28;01melse\u001b[39;00m:\n\u001b[1;32m-> 4830\u001b[0m         new_axis \u001b[38;5;241m=\u001b[39m \u001b[43maxis\u001b[49m\u001b[38;5;241;43m.\u001b[39;49m\u001b[43mdrop\u001b[49m\u001b[43m(\u001b[49m\u001b[43mlabels\u001b[49m\u001b[43m,\u001b[49m\u001b[43m \u001b[49m\u001b[43merrors\u001b[49m\u001b[38;5;241;43m=\u001b[39;49m\u001b[43merrors\u001b[49m\u001b[43m)\u001b[49m\n\u001b[0;32m   4831\u001b[0m     indexer \u001b[38;5;241m=\u001b[39m axis\u001b[38;5;241m.\u001b[39mget_indexer(new_axis)\n\u001b[0;32m   4833\u001b[0m \u001b[38;5;66;03m# Case for non-unique axis\u001b[39;00m\n\u001b[0;32m   4834\u001b[0m \u001b[38;5;28;01melse\u001b[39;00m:\n",
      "File \u001b[1;32mc:\\Users\\Kata\\AppData\\Local\\Programs\\Python\\Python312\\Lib\\site-packages\\pandas\\core\\indexes\\base.py:7070\u001b[0m, in \u001b[0;36mIndex.drop\u001b[1;34m(self, labels, errors)\u001b[0m\n\u001b[0;32m   7068\u001b[0m \u001b[38;5;28;01mif\u001b[39;00m mask\u001b[38;5;241m.\u001b[39many():\n\u001b[0;32m   7069\u001b[0m     \u001b[38;5;28;01mif\u001b[39;00m errors \u001b[38;5;241m!=\u001b[39m \u001b[38;5;124m\"\u001b[39m\u001b[38;5;124mignore\u001b[39m\u001b[38;5;124m\"\u001b[39m:\n\u001b[1;32m-> 7070\u001b[0m         \u001b[38;5;28;01mraise\u001b[39;00m \u001b[38;5;167;01mKeyError\u001b[39;00m(\u001b[38;5;124mf\u001b[39m\u001b[38;5;124m\"\u001b[39m\u001b[38;5;132;01m{\u001b[39;00mlabels[mask]\u001b[38;5;241m.\u001b[39mtolist()\u001b[38;5;132;01m}\u001b[39;00m\u001b[38;5;124m not found in axis\u001b[39m\u001b[38;5;124m\"\u001b[39m)\n\u001b[0;32m   7071\u001b[0m     indexer \u001b[38;5;241m=\u001b[39m indexer[\u001b[38;5;241m~\u001b[39mmask]\n\u001b[0;32m   7072\u001b[0m \u001b[38;5;28;01mreturn\u001b[39;00m \u001b[38;5;28mself\u001b[39m\u001b[38;5;241m.\u001b[39mdelete(indexer)\n",
      "\u001b[1;31mKeyError\u001b[0m: \"['Abbreviation', 'Calling Code', 'Capital/Major City', 'Currency-Code', 'Official language', 'Largest city'] not found in axis\""
     ]
    }
   ],
   "source": [
    "drop_col = [\"Abbreviation\",\"Calling Code\", \"Capital/Major City\", \"Currency-Code\", \"Official language\", \"Largest city\"]\n",
    "\n",
    "data.drop(drop_col, axis=1, inplace=True)\n"
   ]
  },
  {
   "cell_type": "code",
   "execution_count": 14,
   "metadata": {},
   "outputs": [
    {
     "data": {
      "text/plain": [
       "Index(['Country', 'Density\\n(P/Km2)', 'Agricultural Land( %)',\n",
       "       'Land Area(Km2)', 'Armed Forces size', 'Birth Rate', 'Co2-Emissions',\n",
       "       'CPI', 'CPI Change (%)', 'Fertility Rate', 'Forested Area (%)',\n",
       "       'Gasoline Price', 'GDP', 'Gross primary education enrollment (%)',\n",
       "       'Gross tertiary education enrollment (%)', 'Infant mortality',\n",
       "       'Life expectancy', 'Maternal mortality ratio', 'Minimum wage',\n",
       "       'Out of pocket health expenditure', 'Physicians per thousand',\n",
       "       'Population', 'Population: Labor force participation (%)',\n",
       "       'Tax revenue (%)', 'Total tax rate', 'Unemployment rate',\n",
       "       'Urban_population', 'Latitude', 'Longitude'],\n",
       "      dtype='object')"
      ]
     },
     "execution_count": 14,
     "metadata": {},
     "output_type": "execute_result"
    }
   ],
   "source": [
    "data.columns"
   ]
  },
  {
   "cell_type": "code",
   "execution_count": 15,
   "metadata": {},
   "outputs": [],
   "source": [
    "modifiable = ['Agricultural Land( %)',\n",
    "       'Armed Forces size', 'Birth Rate',\n",
    "       'Co2-Emissions', 'CPI', 'CPI Change (%)',\n",
    "       'Fertility Rate', 'Forested Area (%)',\n",
    "       'Gasoline Price', 'GDP', 'Gross primary education enrollment (%)',\n",
    "       'Gross tertiary education enrollment (%)', 'Infant mortality',\n",
    "        'Maternal mortality ratio',\n",
    "       'Minimum wage', 'Out of pocket health expenditure',\n",
    "       'Physicians per thousand', 'Population',\n",
    "       'Population: Labor force participation (%)', 'Tax revenue (%)',\n",
    "       'Total tax rate', 'Unemployment rate', 'Urban_population']"
   ]
  },
  {
   "cell_type": "code",
   "execution_count": 16,
   "metadata": {},
   "outputs": [],
   "source": [
    "columns_with_properties = {\n",
    "    col: {\"modifiable\": col in modifiable} for col in data.columns\n",
    "}"
   ]
  },
  {
   "cell_type": "code",
   "execution_count": 22,
   "metadata": {},
   "outputs": [],
   "source": [
    "data = data.replace({',':'', '%': '', '$': ''}, regex=True)"
   ]
  },
  {
   "cell_type": "code",
   "execution_count": 23,
   "metadata": {},
   "outputs": [
    {
     "data": {
      "text/html": [
       "<div>\n",
       "<style scoped>\n",
       "    .dataframe tbody tr th:only-of-type {\n",
       "        vertical-align: middle;\n",
       "    }\n",
       "\n",
       "    .dataframe tbody tr th {\n",
       "        vertical-align: top;\n",
       "    }\n",
       "\n",
       "    .dataframe thead th {\n",
       "        text-align: right;\n",
       "    }\n",
       "</style>\n",
       "<table border=\"1\" class=\"dataframe\">\n",
       "  <thead>\n",
       "    <tr style=\"text-align: right;\">\n",
       "      <th></th>\n",
       "      <th>Country</th>\n",
       "      <th>Density\\n(P/Km2)</th>\n",
       "      <th>Agricultural Land( %)</th>\n",
       "      <th>Land Area(Km2)</th>\n",
       "      <th>Armed Forces size</th>\n",
       "      <th>Birth Rate</th>\n",
       "      <th>Co2-Emissions</th>\n",
       "      <th>CPI</th>\n",
       "      <th>CPI Change (%)</th>\n",
       "      <th>Fertility Rate</th>\n",
       "      <th>...</th>\n",
       "      <th>Out of pocket health expenditure</th>\n",
       "      <th>Physicians per thousand</th>\n",
       "      <th>Population</th>\n",
       "      <th>Population: Labor force participation (%)</th>\n",
       "      <th>Tax revenue (%)</th>\n",
       "      <th>Total tax rate</th>\n",
       "      <th>Unemployment rate</th>\n",
       "      <th>Urban_population</th>\n",
       "      <th>Latitude</th>\n",
       "      <th>Longitude</th>\n",
       "    </tr>\n",
       "  </thead>\n",
       "  <tbody>\n",
       "    <tr>\n",
       "      <th>1</th>\n",
       "      <td>Albania</td>\n",
       "      <td>105</td>\n",
       "      <td>43.10</td>\n",
       "      <td>28748</td>\n",
       "      <td>9000</td>\n",
       "      <td>11.78</td>\n",
       "      <td>4536</td>\n",
       "      <td>119.05</td>\n",
       "      <td>1.40</td>\n",
       "      <td>1.62</td>\n",
       "      <td>...</td>\n",
       "      <td>56.90</td>\n",
       "      <td>1.20</td>\n",
       "      <td>2854191</td>\n",
       "      <td>55.70</td>\n",
       "      <td>18.60</td>\n",
       "      <td>36.60</td>\n",
       "      <td>12.33</td>\n",
       "      <td>1747593</td>\n",
       "      <td>41.153332</td>\n",
       "      <td>20.168331</td>\n",
       "    </tr>\n",
       "    <tr>\n",
       "      <th>21</th>\n",
       "      <td>Bosnia and Herzegovina</td>\n",
       "      <td>64</td>\n",
       "      <td>43.10</td>\n",
       "      <td>51197</td>\n",
       "      <td>11000</td>\n",
       "      <td>8.11</td>\n",
       "      <td>21848</td>\n",
       "      <td>104.9</td>\n",
       "      <td>0.60</td>\n",
       "      <td>1.27</td>\n",
       "      <td>...</td>\n",
       "      <td>28.60</td>\n",
       "      <td>2.16</td>\n",
       "      <td>3301000</td>\n",
       "      <td>46.40</td>\n",
       "      <td>20.40</td>\n",
       "      <td>23.70</td>\n",
       "      <td>18.42</td>\n",
       "      <td>1605144</td>\n",
       "      <td>43.915886</td>\n",
       "      <td>17.679076</td>\n",
       "    </tr>\n",
       "    <tr>\n",
       "      <th>25</th>\n",
       "      <td>Bulgaria</td>\n",
       "      <td>64</td>\n",
       "      <td>46.30</td>\n",
       "      <td>110879</td>\n",
       "      <td>31000</td>\n",
       "      <td>8.90</td>\n",
       "      <td>41708</td>\n",
       "      <td>114.42</td>\n",
       "      <td>3.10</td>\n",
       "      <td>1.56</td>\n",
       "      <td>...</td>\n",
       "      <td>47.70</td>\n",
       "      <td>4.03</td>\n",
       "      <td>6975761</td>\n",
       "      <td>55.40</td>\n",
       "      <td>20.20</td>\n",
       "      <td>28.30</td>\n",
       "      <td>4.34</td>\n",
       "      <td>5256027</td>\n",
       "      <td>42.733883</td>\n",
       "      <td>25.485830</td>\n",
       "    </tr>\n",
       "    <tr>\n",
       "      <th>41</th>\n",
       "      <td>Croatia</td>\n",
       "      <td>73</td>\n",
       "      <td>27.60</td>\n",
       "      <td>56594</td>\n",
       "      <td>18000</td>\n",
       "      <td>9.00</td>\n",
       "      <td>17488</td>\n",
       "      <td>109.82</td>\n",
       "      <td>0.80</td>\n",
       "      <td>1.47</td>\n",
       "      <td>...</td>\n",
       "      <td>15.20</td>\n",
       "      <td>3.00</td>\n",
       "      <td>4067500</td>\n",
       "      <td>51.20</td>\n",
       "      <td>22.00</td>\n",
       "      <td>20.50</td>\n",
       "      <td>6.93</td>\n",
       "      <td>2328318</td>\n",
       "      <td>45.100000</td>\n",
       "      <td>15.200000</td>\n",
       "    </tr>\n",
       "    <tr>\n",
       "      <th>66</th>\n",
       "      <td>Greece</td>\n",
       "      <td>81</td>\n",
       "      <td>47.60</td>\n",
       "      <td>131957</td>\n",
       "      <td>146000</td>\n",
       "      <td>8.10</td>\n",
       "      <td>62434</td>\n",
       "      <td>101.87</td>\n",
       "      <td>0.20</td>\n",
       "      <td>1.35</td>\n",
       "      <td>...</td>\n",
       "      <td>35.50</td>\n",
       "      <td>5.48</td>\n",
       "      <td>10716322</td>\n",
       "      <td>51.80</td>\n",
       "      <td>26.20</td>\n",
       "      <td>51.90</td>\n",
       "      <td>17.24</td>\n",
       "      <td>8507474</td>\n",
       "      <td>39.074208</td>\n",
       "      <td>21.824312</td>\n",
       "    </tr>\n",
       "  </tbody>\n",
       "</table>\n",
       "<p>5 rows × 29 columns</p>\n",
       "</div>"
      ],
      "text/plain": [
       "                   Country Density\\n(P/Km2) Agricultural Land( %)  \\\n",
       "1                  Albania              105                 43.10   \n",
       "21  Bosnia and Herzegovina               64                 43.10   \n",
       "25                Bulgaria               64                 46.30   \n",
       "41                 Croatia               73                 27.60   \n",
       "66                  Greece               81                 47.60   \n",
       "\n",
       "   Land Area(Km2) Armed Forces size  Birth Rate Co2-Emissions     CPI  \\\n",
       "1           28748              9000       11.78          4536  119.05   \n",
       "21          51197             11000        8.11         21848   104.9   \n",
       "25         110879             31000        8.90         41708  114.42   \n",
       "41          56594             18000        9.00         17488  109.82   \n",
       "66         131957            146000        8.10         62434  101.87   \n",
       "\n",
       "   CPI Change (%)  Fertility Rate  ... Out of pocket health expenditure  \\\n",
       "1            1.40            1.62  ...                            56.90   \n",
       "21           0.60            1.27  ...                            28.60   \n",
       "25           3.10            1.56  ...                            47.70   \n",
       "41           0.80            1.47  ...                            15.20   \n",
       "66           0.20            1.35  ...                            35.50   \n",
       "\n",
       "   Physicians per thousand Population  \\\n",
       "1                     1.20    2854191   \n",
       "21                    2.16    3301000   \n",
       "25                    4.03    6975761   \n",
       "41                    3.00    4067500   \n",
       "66                    5.48   10716322   \n",
       "\n",
       "   Population: Labor force participation (%) Tax revenue (%)  Total tax rate  \\\n",
       "1                                      55.70           18.60           36.60   \n",
       "21                                     46.40           20.40           23.70   \n",
       "25                                     55.40           20.20           28.30   \n",
       "41                                     51.20           22.00           20.50   \n",
       "66                                     51.80           26.20           51.90   \n",
       "\n",
       "    Unemployment rate  Urban_population   Latitude  Longitude  \n",
       "1               12.33           1747593  41.153332  20.168331  \n",
       "21              18.42           1605144  43.915886  17.679076  \n",
       "25               4.34           5256027  42.733883  25.485830  \n",
       "41               6.93           2328318  45.100000  15.200000  \n",
       "66              17.24           8507474  39.074208  21.824312  \n",
       "\n",
       "[5 rows x 29 columns]"
      ]
     },
     "execution_count": 23,
     "metadata": {},
     "output_type": "execute_result"
    }
   ],
   "source": [
    "data.head()"
   ]
  },
  {
   "cell_type": "code",
   "execution_count": 24,
   "metadata": {},
   "outputs": [],
   "source": [
    "export_data = {\n",
    "    \"data\": data.to_dict(orient='records'),  # Data from the DataFrame\n",
    "    \"columns\": columns_with_properties     # Column properties\n",
    "}\n",
    "\n",
    "with open(\"export_data.json\", \"w\") as json_file:\n",
    "    json.dump(export_data, json_file, indent=4)"
   ]
  },
  {
   "cell_type": "code",
   "execution_count": null,
   "metadata": {},
   "outputs": [],
   "source": []
  }
 ],
 "metadata": {
  "kernelspec": {
   "display_name": "Python 3",
   "language": "python",
   "name": "python3"
  },
  "language_info": {
   "codemirror_mode": {
    "name": "ipython",
    "version": 3
   },
   "file_extension": ".py",
   "mimetype": "text/x-python",
   "name": "python",
   "nbconvert_exporter": "python",
   "pygments_lexer": "ipython3",
   "version": "3.12.4"
  }
 },
 "nbformat": 4,
 "nbformat_minor": 2
}
